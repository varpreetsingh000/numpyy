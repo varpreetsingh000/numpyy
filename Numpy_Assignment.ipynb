{
  "nbformat": 4,
  "nbformat_minor": 0,
  "metadata": {
    "colab": {
      "provenance": []
    },
    "kernelspec": {
      "name": "python3",
      "display_name": "Python 3"
    },
    "language_info": {
      "name": "python"
    }
  },
  "cells": [
    {
      "cell_type": "markdown",
      "source": [
        "Q1 Explain the purpose and advantages of NumPy in scientific computing and data analysis. How does it\n",
        "enhance Python's capabilities for numerical operations?\n",
        "\n",
        "Purpose of NumPy in Scientific Computing and Data Analysis\n",
        "\n",
        "**NumPy** (Numerical Python) is a fundamental library for numerical and scientific computing in Python. It provides support for handling large, multi-dimensional arrays and matrices, along with a vast collection of high-level mathematical functions to operate on these arrays.\n",
        "\n",
        "### Key Purposes of NumPy:\n",
        "1. **Efficient Data Structures**: NumPy arrays (`ndarray`) are more efficient for handling large datasets compared to Python's built-in lists. They provide a compact, memory-efficient structure for representing large numerical data.\n",
        "2. **Mathematical Operations**: It supports a wide range of mathematical operations like linear algebra, Fourier transforms, and random number generation, which are essential in scientific computing.\n",
        "3. **Integration with Other Libraries**: NumPy is often used as a foundation for other scientific libraries like Pandas, SciPy, and Matplotlib, facilitating a seamless workflow for data analysis, scientific computing, and machine learning.\n",
        "\n",
        "---\n",
        "\n",
        "### Advantages of NumPy:\n",
        "1. **Speed and Efficiency**:\n",
        "   - **Vectorized Operations**: NumPy performs element-wise operations on arrays using highly optimized C and Fortran code, which is much faster than using Python loops.\n",
        "   - **Memory Efficiency**: Arrays are stored more compactly than Python lists, saving memory and reducing computational overhead.\n",
        "   \n",
        "2. **Broadcasting**:\n",
        "   - NumPy allows operations between arrays of different shapes and sizes through broadcasting. This eliminates the need to write explicit loops for operations like scalar multiplication and matrix addition.\n",
        "\n",
        "3. **Multi-Dimensional Arrays**:\n",
        "   - NumPy arrays can have more than one dimension (e.g., 2D for matrices, 3D for tensors). This makes NumPy ideal for handling complex datasets and conducting operations like matrix multiplication and image processing.\n",
        "\n",
        "4. **Mathematical Functions and Aggregations**:\n",
        "   - NumPy includes numerous built-in functions to perform tasks like:\n",
        "     - **Element-wise operations**: addition, subtraction, multiplication.\n",
        "     - **Statistical operations**: mean, median, standard deviation.\n",
        "     - **Linear algebra**: matrix inversion, eigenvalues, and singular value decomposition (SVD).\n",
        "\n",
        "5. **Interoperability with Other Libraries**:\n",
        "   - NumPy is the foundation for many Python scientific computing libraries such as:\n",
        "     - **Pandas** (for data manipulation).\n",
        "     - **SciPy** (for scientific computations).\n",
        "     - **Matplotlib** (for visualization).\n",
        "     - **TensorFlow** and **PyTorch** (for deep learning).\n",
        "\n",
        "6. **Handling Missing Data**:\n",
        "   - Although primarily a feature of libraries like Pandas, NumPy provides tools to handle missing or invalid data points using special values like `NaN` (Not a Number), which is useful for numerical computations.\n",
        "\n",
        "---\n",
        "\n",
        "### Enhancing Python's Capabilities for Numerical Operations:\n",
        "1. **Array Operations vs. Python Lists**:\n",
        "   - Python lists are not ideal for numerical operations since they don’t support element-wise operations directly. NumPy enhances Python by providing a way to perform such operations efficiently.\n",
        "\n",
        "2. **Multidimensional Arrays and Slicing**:\n",
        "   - While Python lists are one-dimensional, NumPy arrays can be multi-dimensional (e.g., matrices, tensors), and slicing operations on these arrays are far more powerful and intuitive than on nested lists.\n",
        "\n",
        "3. **Custom Data Types**:\n",
        "   - NumPy supports custom data types and allows arrays of different data types (integers, floats, booleans), providing flexibility and precision when working with complex datasets.\n",
        "   \n",
        "4. **Interfacing with C/C++**:\n",
        "   - NumPy enables the use of C/C++ and Fortran code, which allows for faster computations. This makes it a preferred library for performance-critical applications.\n",
        "\n",
        "In summary, NumPy enhances Python’s capabilities for numerical and scientific computing by providing efficient, fast, and versatile tools for handling and performing operations on large datasets, making it invaluable in data analysis and computational tasks."
      ],
      "metadata": {
        "id": "nJQ4iIotKl4r"
      }
    },
    {
      "cell_type": "markdown",
      "source": [
        "Q2 Compare and contrast np.mean() and np.average() functions in NumPy. When would you use one over the\n",
        "other?\n",
        "\n",
        "In NumPy, both np.mean() and np.average() are used to compute the central tendency of an array of values, but they differ in their functionality and use cases. Here's a comparison:\n",
        "\n",
        "1. np.mean():\n",
        "Purpose:\n",
        "Calculates the arithmetic mean (average) of the elements in an array along a specified axis.\n",
        "\n",
        "Syntax: np.mean(a, axis=None, dtype=None, out=None, keepdims=False)\n",
        "\n",
        "Key Features:\n",
        "Computes the unweighted mean by default.\n",
        "\n",
        "The axis can be specified to compute the mean along a particular dimension (for multi-dimensional arrays).\n",
        "\n",
        "The data type (dtype) can be specified to control precision.\n",
        "\n",
        "No support for weights."
      ],
      "metadata": {
        "id": "tqFlhlU1LBpz"
      }
    },
    {
      "cell_type": "code",
      "source": [
        "#Example\n",
        "import numpy as np\n",
        "a = np.array([1, 2, 3, 4, 5])\n",
        "np.mean(a)\n",
        "# Output: 3.0\n"
      ],
      "metadata": {
        "colab": {
          "base_uri": "https://localhost:8080/"
        },
        "id": "Iarm0hraMrnI",
        "outputId": "db877ca7-45be-44e8-9448-8ed8d8f27ec9"
      },
      "execution_count": null,
      "outputs": [
        {
          "output_type": "execute_result",
          "data": {
            "text/plain": [
              "3.0"
            ]
          },
          "metadata": {},
          "execution_count": 1
        }
      ]
    },
    {
      "cell_type": "markdown",
      "source": [
        "np.average():\n",
        "\n",
        "Purpose:\n",
        "\n",
        "Computes the weighted average of an array, where each element can contribute differently to the final result based on a given set of weights.\n",
        "\n",
        "Syntax:\n",
        "np.average(a, axis=None, weights=None, returned=False)\n",
        "\n",
        "Key Features:\n",
        "\n",
        "By default, it behaves like np.mean() if no weights are provided.\n",
        "\n",
        "Weights: You can provide a weights parameter to assign different importance to different elements.\n",
        "\n",
        "If returned=True, it also returns the sum of weights, along with the average.\n",
        "\n",
        "Can calculate along a specified axis for multi-dimensional arrays"
      ],
      "metadata": {
        "id": "NfP9CZ-hNXov"
      }
    },
    {
      "cell_type": "code",
      "source": [
        "import numpy as np\n",
        "a = np.array([1, 2, 3, 4, 5])\n",
        "weights = np.array([1, 2, 3, 4, 5])\n",
        "np.average(a, weights=weights)\n",
        "# Output: 3.6666666666666665\n"
      ],
      "metadata": {
        "colab": {
          "base_uri": "https://localhost:8080/"
        },
        "id": "JDoc54jJOEhy",
        "outputId": "e44102e0-f1ec-41bd-8c40-8bc364382347"
      },
      "execution_count": null,
      "outputs": [
        {
          "output_type": "execute_result",
          "data": {
            "text/plain": [
              "3.6666666666666665"
            ]
          },
          "metadata": {},
          "execution_count": 2
        }
      ]
    },
    {
      "cell_type": "markdown",
      "source": [
        "\n",
        "When to Use One Over the Other:\n",
        "Use np.mean() when:\n",
        "\n",
        "You just need a simple arithmetic mean.\n",
        "You are working with data where every value contributes equally to the final average.\n",
        "Example: Calculating the average of a dataset of test scores, where all tests are equally important.\n",
        "Use np.average() when:\n",
        "\n",
        "You need to compute a weighted average, i.e., when certain elements have more importance or influence on the final result.\n",
        "Example: Calculating a grade where different assignments/tests have different weights (e.g., homework = 10%, exams = 40%)."
      ],
      "metadata": {
        "id": "CYVNcp5QOHjz"
      }
    },
    {
      "cell_type": "markdown",
      "source": [
        "Q3 Describe the methods for reversing a NumPy array along different axes. Provide examples for 1D and 2D\n",
        "arrays.\n",
        "\n",
        "Ans Reversing a 1D Array\n",
        "\n",
        "Method 1: Slicing ([::-1])\n",
        "The easiest and most common way to reverse a 1D array in NumPy is by using slicing with [::-1].\n",
        "\n"
      ],
      "metadata": {
        "id": "yaiPgnsKPg49"
      }
    },
    {
      "cell_type": "code",
      "source": [
        "import numpy as np\n",
        "arr = np.array([1, 2, 3, 4, 5])\n",
        "reversed_arr = arr[::-1]\n",
        "print(reversed_arr)  # Output: [5 4 3 2 1]\n"
      ],
      "metadata": {
        "colab": {
          "base_uri": "https://localhost:8080/"
        },
        "id": "tMEG78Zso17H",
        "outputId": "55cb63bd-9d35-453e-e41b-8400195af66d"
      },
      "execution_count": 1,
      "outputs": [
        {
          "output_type": "stream",
          "name": "stdout",
          "text": [
            "[5 4 3 2 1]\n"
          ]
        }
      ]
    },
    {
      "cell_type": "markdown",
      "source": [
        "Method 2: Using np.flip()\n",
        "\n",
        "np.flip() reverses the order of elements along the specified axis. For a 1D array, there is only one axis (axis=0)."
      ],
      "metadata": {
        "id": "l6QTTVB9pOo2"
      }
    },
    {
      "cell_type": "code",
      "source": [
        "reversed_arr = np.flip(arr)\n",
        "print(reversed_arr)  # Output: [5 4 3 2 1]\n"
      ],
      "metadata": {
        "colab": {
          "base_uri": "https://localhost:8080/"
        },
        "id": "lJLiYnzIpgjx",
        "outputId": "aa2c4c3a-85be-4004-bb43-97f0c9283fe9"
      },
      "execution_count": 2,
      "outputs": [
        {
          "output_type": "stream",
          "name": "stdout",
          "text": [
            "[5 4 3 2 1]\n"
          ]
        }
      ]
    },
    {
      "cell_type": "markdown",
      "source": [
        "2. Reversing a 2D Array\n",
        "\n",
        "For a 2D array,  can be reversed along different axes—rows (axis=0), columns (axis=1), or both.\n",
        "\n",
        "Method 1: Slicing with [::-1]\n",
        "\n",
        "Slicing can be used for both axes. For example, [::-1, :] reverses along the first axis (rows), and [:, ::-1] reverses along the second axis (columns)."
      ],
      "metadata": {
        "id": "eC_OKbhOp23f"
      }
    },
    {
      "cell_type": "code",
      "source": [
        "arr_2d = np.array([[1, 2, 3],\n",
        "                   [4, 5, 6],\n",
        "                   [7, 8, 9]])\n",
        "reversed_rows = arr_2d[::-1, :]\n",
        "print(reversed_rows)\n",
        "# Output:\n",
        "# [[7 8 9]\n",
        "#  [4 5 6]\n",
        "#  [1 2 3]]\n"
      ],
      "metadata": {
        "colab": {
          "base_uri": "https://localhost:8080/"
        },
        "id": "MyQoiim1qFbA",
        "outputId": "f4c7dffa-11f9-435a-e4c9-02f6ac30620d"
      },
      "execution_count": 3,
      "outputs": [
        {
          "output_type": "stream",
          "name": "stdout",
          "text": [
            "[[7 8 9]\n",
            " [4 5 6]\n",
            " [1 2 3]]\n"
          ]
        }
      ]
    },
    {
      "cell_type": "markdown",
      "source": [
        "Method 2: Using np.flip()\n",
        "\n",
        "np.flip() can reverse the array along a specific axis or along multiple axes at once.\n",
        "\n"
      ],
      "metadata": {
        "id": "gcpNhSRiqaaZ"
      }
    },
    {
      "cell_type": "code",
      "source": [
        "flipped_both = np.flip(arr_2d, axis=(0, 1))\n",
        "print(flipped_both)\n",
        "# Output:\n",
        "# [[9 8 7]\n",
        "#  [6 5 4]\n",
        "#  [3 2 1]]\n"
      ],
      "metadata": {
        "colab": {
          "base_uri": "https://localhost:8080/"
        },
        "id": "pLGFySsJqj89",
        "outputId": "33010c0b-65ed-44c2-f387-65ec0073da01"
      },
      "execution_count": 4,
      "outputs": [
        {
          "output_type": "stream",
          "name": "stdout",
          "text": [
            "[[9 8 7]\n",
            " [6 5 4]\n",
            " [3 2 1]]\n"
          ]
        }
      ]
    },
    {
      "cell_type": "markdown",
      "source": [
        "Method 3: Using np.fliplr() and np.flipud()\n",
        "\n",
        "np.fliplr(): Reverses a 2D array left-to-right (flips along columns).\n",
        "\n",
        "np.flipud(): Reverses a 2D array up-to-down (flips along rows).\n",
        "\n"
      ],
      "metadata": {
        "id": "1rpoySCsqpOo"
      }
    },
    {
      "cell_type": "code",
      "source": [
        "flipped_lr = np.fliplr(arr_2d)\n",
        "print(flipped_lr)\n",
        "# Output:\n",
        "# [[3 2 1]\n",
        "#  [6 5 4]\n",
        "#  [9 8 7]]\n"
      ],
      "metadata": {
        "colab": {
          "base_uri": "https://localhost:8080/"
        },
        "id": "HFj2Oz0eqzx_",
        "outputId": "18a80b1f-9c71-4514-c583-bf7882011328"
      },
      "execution_count": 5,
      "outputs": [
        {
          "output_type": "stream",
          "name": "stdout",
          "text": [
            "[[3 2 1]\n",
            " [6 5 4]\n",
            " [9 8 7]]\n"
          ]
        }
      ]
    },
    {
      "cell_type": "code",
      "source": [
        "flipped_ud = np.flipud(arr_2d)\n",
        "print(flipped_ud)\n",
        "# Output:\n",
        "# [[7 8 9]\n",
        "#  [4 5 6]\n",
        "#  [1 2 3]]\n"
      ],
      "metadata": {
        "colab": {
          "base_uri": "https://localhost:8080/"
        },
        "id": "x--eMH9hq97G",
        "outputId": "5a01dd37-6e5f-419c-b056-8cab0719fc23"
      },
      "execution_count": 6,
      "outputs": [
        {
          "output_type": "stream",
          "name": "stdout",
          "text": [
            "[[7 8 9]\n",
            " [4 5 6]\n",
            " [1 2 3]]\n"
          ]
        }
      ]
    },
    {
      "cell_type": "markdown",
      "source": [
        "4. How can you determine the data type of elements in a NumPy array? Discuss the importance of data types\n",
        "in memory management and performance.\n",
        "\n",
        "\n",
        "Ans. The data type of elements in NumPy array can be determined using the dtype attribute."
      ],
      "metadata": {
        "id": "PhSydfVOCoZn"
      }
    },
    {
      "cell_type": "code",
      "source": [
        "# Example\n",
        "import numpy as np\n",
        "\n",
        "# Create a NumPy array\n",
        "arr = np.array([1, 2, 3, 4])\n",
        "\n",
        "# Determine the data type of elements\n",
        "print(arr.dtype)\n"
      ],
      "metadata": {
        "colab": {
          "base_uri": "https://localhost:8080/"
        },
        "id": "HVQdCXImD4bC",
        "outputId": "30339386-d838-4201-f318-60729833fa48"
      },
      "execution_count": null,
      "outputs": [
        {
          "output_type": "stream",
          "name": "stdout",
          "text": [
            "int64\n"
          ]
        }
      ]
    },
    {
      "cell_type": "markdown",
      "source": [
        "Importance of Data Types in Memory Management and Performance\n",
        "\n",
        "Memory Management:\n",
        "\n",
        "NumPy arrays are more efficient than Python lists because they are densely packed in memory. The dtype determines how much space is allocated for each element. For instance, an int32 array allocates 4 bytes per integer, while an int64 array allocates 8 bytes. Choosing the correct data type helps optimize memory usage.\n",
        "\n",
        "Smaller Data Types Save Memory: Using a smaller data type (e.g., int8, float32) can significantly reduce memory consumption, especially for large datasets. For example, an array with millions of elements will consume less memory if the elements are stored as int8 instead of int64.\n",
        "\n",
        "\n",
        "Performance:\n",
        "The data type also affects performance. Operations on smaller data types (like int8 or float32) can be faster than operations on larger data types (like int64 or float64) because less memory is transferred and cached by the processor.\n",
        "\n",
        "Faster Computations: Using the appropriate data type can speed up calculations since smaller data types require fewer CPU cycles.\n",
        "\n",
        "Vectorization: NumPy leverages vectorized operations, which means operations are applied element-wise on arrays, leading to faster execution. Efficient use of data types helps maximize this performance.\n",
        "Choosing the right data type balances memory efficiency and computational speed, making it crucial for optimizing large-scale data processing tasks."
      ],
      "metadata": {
        "id": "u-2XT18tD_2l"
      }
    },
    {
      "cell_type": "markdown",
      "source": [
        " Q5 Define ndarrays in NumPy and explain their key features. How do they differ from standard Python lists?\n",
        "\n",
        " Ans A NumPy ndarray (N-dimensional array) is a powerful, homogeneous data structure used for numerical computations. It is a grid of values, all of the same data type, indexed by a tuple of non-negative integers. Unlike Python lists, which are one-dimensional, ndarrays can have multiple dimensions, such as 1D, 2D (matrices), or higher.\n",
        "\n",
        "Key Features of ndarray:\n",
        "\n",
        "Homogeneous Data Type:\n",
        "Every element in an ndarray must be of the same data type (e.g., all integers, all floats). This is in contrast to Python lists, which can hold mixed data types.\n",
        "\n",
        "Multidimensional:\n",
        "ndarrays support multiple dimensions. You can create arrays of any dimension, such as 1D vectors, 2D matrices, and higher-dimensional arrays (3D, 4D, etc.). The dimensions are defined by the array's shape, which is a tuple indicating the size along each dimension.\n",
        "\n",
        "Efficient Memory Usage:\n",
        "NumPy arrays are densely packed in memory, unlike Python lists, which are arrays of pointers to objects. This compact memory layout allows for faster access and manipulation of data.\n",
        "\n",
        "Vectorized Operations:\n",
        "ndarrays allow element-wise operations and broadcasting, where operations are applied simultaneously across all elements without the need for explicit loops. This makes computations much faster than using Python loops.\n",
        "\n",
        "Fixed Size:\n",
        "Once created, the size (shape) of an ndarray is fixed. To modify its size, you must create a new array or reshape the existing one, unlike Python lists, which can dynamically resize.\n",
        "\n",
        "Advanced Indexing and Slicing:\n",
        "NumPy supports complex slicing and indexing, allowing efficient extraction and modification of subarrays. You can use slicing, Boolean indexing, and even fancy indexing to work with data."
      ],
      "metadata": {
        "id": "aevdwbrNK21d"
      }
    },
    {
      "cell_type": "code",
      "source": [
        "#Example\n",
        "import numpy as np\n",
        "\n",
        "# Creating a 1D ndarray\n",
        "arr = np.array([1, 2, 3])\n",
        "\n",
        "# Creating a 2D ndarray\n",
        "arr_2d = np.array([[1, 2], [3, 4]])\n"
      ],
      "metadata": {
        "id": "xQKncRs7Ny-W"
      },
      "execution_count": null,
      "outputs": []
    },
    {
      "cell_type": "markdown",
      "source": [
        "Differences\n",
        "\n",
        "Data Type:\n",
        "\n",
        "ndarrays are homogeneous (all elements must be of the same data type).\n",
        "\n",
        "Python lists are heterogeneous (can hold elements of different data types).\n",
        "\n",
        "Memory Efficiency:\n",
        "\n",
        "ndarrays use a compact, contiguous memory layout, making them more memory-efficient.\n",
        "\n",
        "Python lists are arrays of pointers, resulting in higher memory consumption.\n",
        "\n",
        "Performance:\n",
        "\n",
        "ndarrays support vectorized operations for faster computations.\n",
        "\n",
        "Python lists require explicit loops, making them slower for numerical operations.\n",
        "\n",
        "Size Flexibility:\n",
        "\n",
        "ndarrays have a fixed size once created.\n",
        "\n",
        "Python lists can dynamically grow or shrink in size.\n",
        "\n",
        "Dimensionality:\n",
        "\n",
        "ndarrays support multiple dimensions (1D, 2D, 3D, etc.) natively.\n",
        "\n",
        "Python lists are typically 1D, with nested lists needed for higher dimensions.\n",
        "\n",
        "Mathematical Operations:\n",
        "\n",
        "ndarrays allow element-wise operations without loops.\n",
        "\n",
        "Python lists require loops for arithmetic operations on elements.\n",
        "\n",
        "Indexing and Slicing:\n",
        "\n",
        "ndarrays support advanced slicing, indexing, and broadcasting across multiple dimensions.\n",
        "\n",
        "Python lists offer basic slicing and lack advanced indexing features."
      ],
      "metadata": {
        "id": "E8BIStZJPIjg"
      }
    },
    {
      "cell_type": "markdown",
      "source": [
        "Q6  Analyze the performance benefits of NumPy arrays over Python lists for large-scale numerical operations.\n",
        "\n",
        "Ans Performance Benefits of NumPy Arrays Over Python Lists for Large-Scale Numerical Operations:\n",
        "Memory Efficiency:\n",
        "\n",
        "NumPy Arrays: NumPy arrays (ndarrays) are stored in contiguous blocks of memory, and all elements are of the same data type. This means that NumPy arrays are much more compact and memory-efficient than Python lists. For large datasets, this reduced memory footprint allows for faster access to data and lower memory usage.\n",
        "\n",
        "Python Lists: In contrast, Python lists are arrays of pointers to objects, and each element can be of a different data type. This results in significant memory overhead, especially when handling large datasets.\n",
        "\n",
        "Vectorized Operations:\n",
        "\n",
        "NumPy Arrays: NumPy supports vectorized operations, which allow element-wise computations to be executed without using explicit loops. Operations such as addition, multiplication, and other arithmetic tasks are applied to the entire array at once, utilizing optimized C and Fortran libraries under the hood.\n",
        "\n",
        "Python Lists: Python lists do not support vectorized operations, so mathematical operations require explicit loops, resulting in higher execution times and lower efficiency for large-scale data.\n",
        "\n",
        "Low-Level Optimizations:\n",
        "\n",
        "NumPy Arrays: NumPy is written in C and heavily optimized for performance. When performing operations on arrays, NumPy directly accesses the underlying C libraries, bypassing Python’s dynamic typing system and interpreter overhead. This leads to a significant speed boost when working with large datasets.\n",
        "\n",
        "\n",
        "Python Lists: Python lists are built on dynamic typing, where each operation involves checking the data type and handling references. This overhead becomes a performance bottleneck when dealing with large datasets.\n",
        "\n",
        "Broadcasting:\n",
        "\n",
        "NumPy Arrays: NumPy supports broadcasting, which allows arrays of different shapes to interact in arithmetic operations without needing to reshape them explicitly. Broadcasting minimizes the need for loops and improves computational efficiency, making it easier and faster to work with large datasets.\n",
        "\n",
        "Python Lists: Python lists do not have a broadcasting feature, requiring manual iteration and handling of different shapes, which slows down operations for large-scale data.\n",
        "\n",
        "Efficient Element-wise Operations:\n",
        "\n",
        "NumPy Arrays: Operations like addition, multiplication, and division between arrays or between an array and a scalar are handled element-wise efficiently in NumPy. These operations are performed in compiled code, leveraging the CPU’s vectorized instructions.\n",
        "\n",
        "Python Lists: Performing element-wise operations in Python lists involves explicit loops, which introduces Python's interpreter overhead. This significantly increases the time complexity, especially for large datasets.\n",
        "\n",
        "Handling Multi-dimensional Data:\n",
        "\n",
        "NumPy Arrays: NumPy arrays are natively designed to handle multi-dimensional data. Operations on 2D, 3D, or higher-dimensional arrays are optimized and performed efficiently, making NumPy a go-to tool for numerical computing and machine learning tasks.\n",
        "\n",
        "Python Lists: Handling multi-dimensional data in Python lists requires nested lists and explicit loops, which can make the code complex, slower, and less readable.\n",
        "\n",
        "Parallelism and Optimization:\n",
        "\n",
        "NumPy Arrays: Many of NumPy’s operations are parallelized internally, leveraging multi-core CPUs for performance optimization. This provides an additional boost when working with large datasets and performing repetitive operations.\n",
        "\n",
        "Python Lists: Python lists do not natively support parallelism or multi-threaded operations, leading to slower execution times for computationally intensive tasks.\n",
        "\n",
        "Conclusion:\n",
        "For large-scale numerical operations, NumPy arrays offer substantial performance benefits over Python lists. They are more memory-efficient, leverage vectorized operations, and take advantage of low-level optimizations. Python lists, while more flexible for general-purpose use, are not optimized for numerical computations, making NumPy the preferred tool for tasks involving large datasets and intensive calculations."
      ],
      "metadata": {
        "id": "aeF1b1cdTKFk"
      }
    },
    {
      "cell_type": "markdown",
      "source": [
        "Q7  Compare vstack() and hstack() functions in NumPy. Provide examples demonstrating their usage and\n",
        "output.\n",
        "\n",
        "Ans 7 In NumPy, the vstack() and hstack() functions are used to stack arrays along different axes, but they work differently depending on the stacking direction.\n",
        "\n",
        "1. vstack() – Vertical Stacking:\n",
        "Functionality: The vstack() function stacks arrays vertically, row-wise. It concatenates arrays along the vertical axis (i.e., axis 0). The arrays being stacked must have the same number of columns.\n",
        "\n",
        "2. hstack() – Horizontal Stacking:\n",
        "Functionality: The hstack() function stacks arrays horizontally, column-wise. It concatenates arrays along the horizontal axis (i.e., axis 1). The arrays being stacked must have the same number of rows.\n",
        "\n",
        "Key Differences Between vstack() and hstack():\n",
        "\n",
        "Direction:\n",
        "\n",
        "vstack() stacks arrays vertically (row-wise) along axis 0.\n",
        "\n",
        "hstack() stacks arrays horizontally (column-wise) along axis 1.\n",
        "\n",
        "Dimensionality Requirements:\n",
        "\n",
        "For vstack(), arrays must have the same number of columns (i.e., the same second dimension in 2D arrays).\n",
        "\n",
        "For hstack(), arrays must have the same number of rows (i.e., the same first dimension in 2D arrays).\n"
      ],
      "metadata": {
        "id": "o71Ge7JYWKUg"
      }
    },
    {
      "cell_type": "code",
      "source": [
        "# Example\n",
        "import numpy as np\n",
        "\n",
        "# Creating two 1D arrays\n",
        "arr1 = np.array([1, 2, 3])\n",
        "arr2 = np.array([4, 5, 6])\n",
        "\n",
        "# Vertically stacking the arrays\n",
        "result = np.vstack((arr1, arr2))\n",
        "print(result)\n"
      ],
      "metadata": {
        "colab": {
          "base_uri": "https://localhost:8080/"
        },
        "id": "F8J74y9PbDL3",
        "outputId": "abcf2c47-0b78-4de9-efbe-20fc389eeb78"
      },
      "execution_count": null,
      "outputs": [
        {
          "output_type": "stream",
          "name": "stdout",
          "text": [
            "[[1 2 3]\n",
            " [4 5 6]]\n"
          ]
        }
      ]
    },
    {
      "cell_type": "code",
      "source": [
        "# Example 2\n",
        "# Creating two 1D arrays\n",
        "arr1 = np.array([1, 2, 3])\n",
        "arr2 = np.array([4, 5, 6])\n",
        "\n",
        "# Horizontally stacking the arrays\n",
        "result = np.hstack((arr1, arr2))\n",
        "print(result)\n"
      ],
      "metadata": {
        "colab": {
          "base_uri": "https://localhost:8080/"
        },
        "id": "oEarAhpPbN7W",
        "outputId": "c32d11ad-13c1-4651-a1ea-558f8dfbb8a8"
      },
      "execution_count": null,
      "outputs": [
        {
          "output_type": "stream",
          "name": "stdout",
          "text": [
            "[1 2 3 4 5 6]\n"
          ]
        }
      ]
    },
    {
      "cell_type": "markdown",
      "source": [
        "Q8 8. Explain the differences between fliplr() and flipud() methods in NumPy, including their effects on various array dimensions.\n",
        "\n",
        "\n",
        "Ans8 The fliplr() and flipud() functions in NumPy are used to reverse or flip arrays, but they operate along different axes. Here’s a breakdown of their differences and effects on arrays.\n",
        "\n",
        "1. fliplr() – Flip Left to Right (Horizontally):\n",
        "\n",
        "Functionality:\n",
        "\n",
        "The fliplr() function flips an array horizontally, i.e., it reverses the order of columns. It applies to 2D arrays (or higher) and works along the last axis (axis 1).\n",
        "\n",
        "Effect on Arrays:\n",
        "\n",
        "For 1D arrays: It does not apply (raises an error) because there is no second dimension (axis 1).\n",
        "\n",
        "For 2D arrays: It flips the array from left to right by reversing the order of columns.\n",
        "\n",
        "For 3D arrays: fliplr() will reverse the order of the elements along the last axis, which in 3D is the second dimension (the columns).\n",
        "\n",
        "2. flipud() – Flip Up to Down (Vertically):\n",
        "\n",
        "Functionality:\n",
        "\n",
        "The flipud() function flips an array vertically, i.e., it reverses the order of rows. It applies to 2D arrays (or higher) and works along the first axis (axis 0).\n",
        "\n",
        "Effect on Arrays:\n",
        "\n",
        "For 1D arrays: It applies and simply reverses the elements since a 1D array has only one axis.\n",
        "\n",
        "For 2D arrays: It flips the array from top to bottom by reversing the order of rows.\n",
        "\n",
        "For 3D arrays: flipud() flips the array along the first axis, i.e., it swaps the rows of the first axis.\n",
        "\n",
        "Key Differences Between fliplr() and flipud():\n",
        "\n",
        "Axis of Operation:\n",
        "\n",
        "fliplr(): Flips arrays horizontally (left to right) along axis 1 (columns).\n",
        "\n",
        "flipud(): Flips arrays vertically (up to down) along axis 0 (rows).\n",
        "\n",
        "Dimensional Applicability:\n",
        "\n",
        "fliplr() only works for arrays with at least 2 dimensions (because it operates on columns).\n",
        "\n",
        "flipud() can work for both 1D arrays (reversing their elements) and higher-dimensional arrays (flipping rows).\n",
        "\n",
        "Effect on 2D Arrays:\n",
        "\n",
        "fliplr(): Reverses the order of columns in each row.\n",
        "\n",
        "flipud(): Reverses the order of rows."
      ],
      "metadata": {
        "id": "oScgeTMhc-hW"
      }
    },
    {
      "cell_type": "markdown",
      "source": [
        "9. Discuss the functionality of the array_split() method in NumPy. How does it handle uneven splits?\n",
        "\n",
        "Ans The array_split() method in NumPy is used to split an array into multiple sub-arrays. It is similar to the split() function, but with the added flexibility of handling uneven splits, making it particularly useful when the array cannot be evenly divided by the specified number of splits.\n",
        "\n",
        "Functionality of array_split():\n",
        "Purpose: array_split() divides an array into a specified number of sub-arrays. Unlike split(), which raises an error if the array cannot be split evenly, array_split() allows for uneven splitting, distributing the remaining elements across the sub-arrays.\n",
        "\n",
        "Handling of Uneven Splits:\n",
        "If the array cannot be split evenly into the specified number of sub-arrays, array_split() ensures that the resulting sub-arrays are as equal in size as possible. The larger sub-arrays are placed earlier in the output. This means that the first few sub-arrays may have one more element than the later sub-arrays.\n",
        "\n",
        "Key Differences from split():\n",
        "split() requires that the array can be divided exactly by the number of splits; otherwise, it raises an error.\n",
        "\n",
        "array_split() can handle uneven splits, ensuring that sub-arrays are as evenly distributed as possible.\n",
        "\n",
        "Effect on Multi-dimensional Arrays:\n",
        "array_split() can also work on multi-dimensional arrays. The axis argument determines along which dimension the array will be split."
      ],
      "metadata": {
        "id": "9cs1wNbbfbf_"
      }
    },
    {
      "cell_type": "markdown",
      "source": [
        "Q 10 Explain the concepts of vectorization and broadcasting in NumPy. How do they contribute to efficient array\n",
        "\n",
        "\n",
        "Ans 1 Vectorization:\n",
        "\n",
        "Definition: Vectorization refers to the process of applying operations (such as arithmetic, comparisons, etc.) on entire arrays (or vectors) in a single step, without the need for explicit loops. This allows NumPy to execute operations at a much faster pace by internally utilizing optimized C and Fortran routines.\n",
        "\n",
        "Reasons for Efficiency:\n",
        "\n",
        "By avoiding explicit Python loops, vectorization reduces the overhead associated with the Python interpreter. Instead, the operation is performed at the compiled C level, which is far more efficient.\n",
        "It enables parallelism, meaning the CPU can perform multiple computations simultaneously, leading to significant performance improvements.\n",
        "\n",
        "2. Broadcasting:\n",
        "Definition: Broadcasting is a mechanism that allows NumPy to perform element-wise operations on arrays with different shapes, by automatically expanding the smaller array to match the shape of the larger one. This eliminates the need for reshaping or duplicating arrays, thus saving memory and improving performance.\n",
        "\n",
        "Working: When arrays of different shapes are involved in an operation, NumPy applies the following broadcasting rules:\n",
        "\n",
        "The dimensions of the arrays are compared from right to left.\n",
        "If the dimensions are the same, or one of the arrays has size 1 in that dimension, they are compatible, and broadcasting is possible.\n",
        "The smaller array is “stretched” or replicated across the larger array so that they can be combined element-wise.\n",
        "\n",
        "Elimination of Explicit Loops:\n",
        "\n",
        "Both vectorization and broadcasting allow you to operate on entire arrays without writing loops. This not only simplifies the code but also eliminates the inefficiency of Python loops, which can be slow for large datasets.\n",
        "\n",
        "\n",
        "Lower-Level Optimizations:\n",
        "\n",
        "Vectorized operations are implemented using low-level C or Fortran routines, bypassing Python’s overhead. These operations are highly optimized for performance, enabling faster computations on large arrays.\n",
        "\n",
        "Parallel Processing:\n",
        "\n",
        "Modern CPUs have multiple cores and can perform parallel computations. Vectorized operations allow NumPy to take advantage of these optimizations, performing many calculations simultaneously.\n",
        "\n",
        "Memory Efficiency:\n",
        "\n",
        "Broadcasting avoids unnecessary memory consumption by not creating copies of arrays. Instead of physically expanding arrays to match shapes, NumPy adjusts the shape dynamically during computation, saving both time and memory.\n",
        "\n",
        "Conciseness and Readability:\n",
        "\n",
        "Vectorized and broadcasted operations are typically written in a single line, making the code more concise, readable, and easier to debug. This is especially useful for numerical and scientific computations."
      ],
      "metadata": {
        "id": "YPzOsyf1nuEU"
      }
    },
    {
      "cell_type": "code",
      "source": [
        "# Practical Questions\n",
        "#Q1  Create a 3x3 NumPy array with random integers between 1 and 100. Then, interchange its rows and columns\n",
        "\n",
        "import numpy as np\n",
        "\n",
        "array = np.random.randint(1, 101, size=(3, 3))\n",
        "\n",
        "print(\"Original Array:\")\n",
        "print(array)\n",
        "\n",
        "# Interchange rows and columns using transpose\n",
        "interchanged_array = array.transpose()\n",
        "\n",
        "print(\"\\nArray with Rows and Columns Interchanged (Transposed):\")\n",
        "print(interchanged_array)\n"
      ],
      "metadata": {
        "colab": {
          "base_uri": "https://localhost:8080/"
        },
        "id": "vUJsaiRPOKWp",
        "outputId": "0ee407fd-f615-4580-a2df-47fadc5597cc"
      },
      "execution_count": null,
      "outputs": [
        {
          "output_type": "stream",
          "name": "stdout",
          "text": [
            "Original Array:\n",
            "[[73  9 15]\n",
            " [55 93 94]\n",
            " [19 26 60]]\n",
            "\n",
            "Array with Rows and Columns Interchanged (Transposed):\n",
            "[[73 55 19]\n",
            " [ 9 93 26]\n",
            " [15 94 60]]\n"
          ]
        }
      ]
    },
    {
      "cell_type": "code",
      "source": [
        "# Q2 Generate a 1D NumPy array with 10 elements. Reshape it into a 2x5 array, then into a 5x2 array.\n",
        "\n",
        "import numpy as np\n",
        "\n",
        "# Generate a 1D array with 10 elements\n",
        "arr_1d = np.arange(10)\n",
        "\n",
        "arr_2x5 = arr_1d.reshape(2, 5)\n",
        "print(\"2x5 array:\\n\", arr_2x5)\n",
        "\n",
        "# Reshape it into a 5x2 array\n",
        "arr_5x2 = arr_1d.reshape(5, 2)\n",
        "print(\"\\n5x2 array:\\n\", arr_5x2)\n"
      ],
      "metadata": {
        "colab": {
          "base_uri": "https://localhost:8080/"
        },
        "id": "UqUVIeEOO6kD",
        "outputId": "18330c55-c010-482a-c47c-e273a1bf7250"
      },
      "execution_count": null,
      "outputs": [
        {
          "output_type": "stream",
          "name": "stdout",
          "text": [
            "2x5 array:\n",
            " [[0 1 2 3 4]\n",
            " [5 6 7 8 9]]\n",
            "\n",
            "5x2 array:\n",
            " [[0 1]\n",
            " [2 3]\n",
            " [4 5]\n",
            " [6 7]\n",
            " [8 9]]\n"
          ]
        }
      ]
    },
    {
      "cell_type": "code",
      "source": [
        "# Q3 Create a 4x4 NumPy array with random float values. Add a border of zeros around it, resulting in a 6x6 array.\n",
        "\n",
        "import numpy as np\n",
        "\n",
        "# Create a 4x4 array with random float values\n",
        "array = np.random.rand(4, 4)\n",
        "\n",
        "# Create a 6x6 array filled with zeros\n",
        "bordered_array = np.zeros((6, 6))\n",
        "\n",
        "# Insert the original array into the center of the bordered array\n",
        "bordered_array[1:5, 1:5] = array\n",
        "\n",
        "print(\"Original Array:\\n\", array)\n",
        "print(\"\\nArray with Zero Border:\\n\", bordered_array)\n"
      ],
      "metadata": {
        "colab": {
          "base_uri": "https://localhost:8080/"
        },
        "id": "BOgEN7ZSPu-g",
        "outputId": "3d557070-75d4-4211-a789-0f478a0e2ee3"
      },
      "execution_count": null,
      "outputs": [
        {
          "output_type": "stream",
          "name": "stdout",
          "text": [
            "Original Array:\n",
            " [[0.3649933  0.41700425 0.45967589 0.20793555]\n",
            " [0.58885324 0.71631338 0.05928552 0.13295289]\n",
            " [0.44845547 0.78081407 0.97296913 0.80018329]\n",
            " [0.69064058 0.86651381 0.49204098 0.77791748]]\n",
            "\n",
            "Array with Zero Border:\n",
            " [[0.         0.         0.         0.         0.         0.        ]\n",
            " [0.         0.3649933  0.41700425 0.45967589 0.20793555 0.        ]\n",
            " [0.         0.58885324 0.71631338 0.05928552 0.13295289 0.        ]\n",
            " [0.         0.44845547 0.78081407 0.97296913 0.80018329 0.        ]\n",
            " [0.         0.69064058 0.86651381 0.49204098 0.77791748 0.        ]\n",
            " [0.         0.         0.         0.         0.         0.        ]]\n"
          ]
        }
      ]
    },
    {
      "cell_type": "code",
      "source": [
        "# Q4 Using NumPy, create an array of integers from 10 to 60 with a step of 5.\n",
        "\n",
        "import numpy as np\n",
        "\n",
        "array = np.arange(10, 61, 5)\n",
        "print(array)\n"
      ],
      "metadata": {
        "colab": {
          "base_uri": "https://localhost:8080/"
        },
        "id": "fp6rtpA3RUHA",
        "outputId": "19996bef-abf2-4b0c-d107-ade113a6d21d"
      },
      "execution_count": null,
      "outputs": [
        {
          "output_type": "stream",
          "name": "stdout",
          "text": [
            "[10 15 20 25 30 35 40 45 50 55 60]\n"
          ]
        }
      ]
    },
    {
      "cell_type": "code",
      "source": [
        "# Q5 Create a NumPy array of strings ['python', 'numpy', 'pandas']. Apply different case transformations\n",
        "# (uppercase, lowercase, title case, etc.) to each element.\n",
        "\n",
        "import numpy as np\n",
        "\n",
        "strings = np.array(['python', 'numpy', 'pandas'])\n",
        "\n",
        "# Uppercase\n",
        "uppercase_strings = np.char.upper(strings)\n",
        "print(\"Uppercase:\", uppercase_strings)\n",
        "\n",
        "# Lowercase\n",
        "lowercase_strings = np.char.lower(strings)\n",
        "print(\"Lowercase:\", lowercase_strings)\n",
        "\n",
        "# Title case\n",
        "titlecase_strings = np.char.title(strings)\n",
        "print(\"Titlecase:\", titlecase_strings)\n",
        "\n",
        "# Swapcase\n",
        "swapcase_strings = np.char.swapcase(strings)\n",
        "print(\"Swapcase:\", swapcase_strings)\n"
      ],
      "metadata": {
        "colab": {
          "base_uri": "https://localhost:8080/"
        },
        "id": "9nC2VkyPVc3H",
        "outputId": "22193cf4-1be4-4ebd-a051-02db47800051"
      },
      "execution_count": null,
      "outputs": [
        {
          "output_type": "stream",
          "name": "stdout",
          "text": [
            "Uppercase: ['PYTHON' 'NUMPY' 'PANDAS']\n",
            "Lowercase: ['python' 'numpy' 'pandas']\n",
            "Titlecase: ['Python' 'Numpy' 'Pandas']\n",
            "Swapcase: ['PYTHON' 'NUMPY' 'PANDAS']\n"
          ]
        }
      ]
    },
    {
      "cell_type": "code",
      "source": [
        "# Q6 Generate a NumPy array of words. Insert a space between each character of every word in the array\n",
        "\n",
        "import numpy as np\n",
        "\n",
        "words = np.array(['hello', 'world', 'numpy'])\n",
        "\n",
        "# Insert a space between each character using a list comprehension and join\n",
        "spaced_words = np.array([' '.join(list(word)) for word in words])\n",
        "\n",
        "print(spaced_words)\n"
      ],
      "metadata": {
        "colab": {
          "base_uri": "https://localhost:8080/"
        },
        "id": "hCTsF4n7XxTt",
        "outputId": "3e851e85-8cbc-456f-f4a5-c5834e57c216"
      },
      "execution_count": null,
      "outputs": [
        {
          "output_type": "stream",
          "name": "stdout",
          "text": [
            "['h e l l o' 'w o r l d' 'n u m p y']\n"
          ]
        }
      ]
    },
    {
      "cell_type": "code",
      "source": [
        "# Q7 Create two 2D NumPy arrays and perform element-wise addition, subtraction, multiplication, and division.\n",
        "\n",
        "import numpy as np\n",
        "\n",
        "# Create two 2D arrays\n",
        "array1 = np.array([[1, 2], [3, 4]])\n",
        "array2 = np.array([[5, 6], [7, 8]])\n",
        "\n",
        "# Element-wise addition\n",
        "addition_result = array1 + array2\n",
        "print(\"Element-wise Addition:\\n\", addition_result)\n",
        "\n",
        "# Element-wise subtraction\n",
        "subtraction_result = array1 - array2\n",
        "print(\"\\nElement-wise Subtraction:\\n\", subtraction_result)\n",
        "\n",
        "# Element-wise multiplication\n",
        "multiplication_result = array1 * array2\n",
        "print(\"\\nElement-wise Multiplication:\\n\", multiplication_result)\n",
        "\n",
        "# Element-wise division\n",
        "division_result = array1 / array2\n",
        "print(\"\\nElement-wise Division:\\n\", division_result)\n"
      ],
      "metadata": {
        "colab": {
          "base_uri": "https://localhost:8080/"
        },
        "id": "vsW_h8J1dGfT",
        "outputId": "cba2b563-53c6-4b16-858f-fecd66d75c79"
      },
      "execution_count": null,
      "outputs": [
        {
          "output_type": "stream",
          "name": "stdout",
          "text": [
            "Element-wise Addition:\n",
            " [[ 6  8]\n",
            " [10 12]]\n",
            "\n",
            "Element-wise Subtraction:\n",
            " [[-4 -4]\n",
            " [-4 -4]]\n",
            "\n",
            "Element-wise Multiplication:\n",
            " [[ 5 12]\n",
            " [21 32]]\n",
            "\n",
            "Element-wise Division:\n",
            " [[0.2        0.33333333]\n",
            " [0.42857143 0.5       ]]\n"
          ]
        }
      ]
    },
    {
      "cell_type": "code",
      "source": [
        "#  Q8. Use NumPy to create a 5x5 identity matrix, then extract its diagonal elements.\n",
        "\n",
        "import numpy as np\n",
        "\n",
        "# Create a 5x5 identity matrix\n",
        "identity_matrix = np.identity(5)\n",
        "\n",
        "# Extract the diagonal elements\n",
        "diagonal_elements = np.diag(identity_matrix)\n",
        "\n",
        "print(\"Identity Matrix:\\n\", identity_matrix)\n",
        "print(\"\\nDiagonal Elements:\", diagonal_elements)\n"
      ],
      "metadata": {
        "colab": {
          "base_uri": "https://localhost:8080/"
        },
        "id": "05UWIEFl9zfa",
        "outputId": "184a4100-0747-402e-ebc6-78b25a3ef87b"
      },
      "execution_count": null,
      "outputs": [
        {
          "output_type": "stream",
          "name": "stdout",
          "text": [
            "Identity Matrix:\n",
            " [[1. 0. 0. 0. 0.]\n",
            " [0. 1. 0. 0. 0.]\n",
            " [0. 0. 1. 0. 0.]\n",
            " [0. 0. 0. 1. 0.]\n",
            " [0. 0. 0. 0. 1.]]\n",
            "\n",
            "Diagonal Elements: [1. 1. 1. 1. 1.]\n"
          ]
        }
      ]
    },
    {
      "cell_type": "code",
      "source": [
        "# Q9 Generate a NumPy array of 100 random integers between 0 and 1000. Find and display all prime numbers in this array\n",
        "\n",
        "import numpy as np\n",
        "\n",
        "def is_prime(n):\n",
        "  \"\"\"Checks if a number is prime.\"\"\"\n",
        "  if n <= 1:\n",
        "    return False\n",
        "  for i in range(2, int(n**0.5) + 1):\n",
        "    if n % i == 0:\n",
        "      return False\n",
        "  return True\n",
        "\n",
        "# Generate a NumPy array of 100 random integers between 0 and 1000\n",
        "random_array = np.random.randint(0, 1001, size=100)\n",
        "\n",
        "# Find and display all prime numbers in the array\n",
        "prime_numbers = [num for num in random_array if is_prime(num)]\n",
        "print(\"Prime numbers in the array:\", prime_numbers)\n"
      ],
      "metadata": {
        "colab": {
          "base_uri": "https://localhost:8080/"
        },
        "id": "M0vFkXgE-b51",
        "outputId": "74cfb97f-2228-4ca8-b2d5-568943052eb2"
      },
      "execution_count": null,
      "outputs": [
        {
          "output_type": "stream",
          "name": "stdout",
          "text": [
            "Prime numbers in the array: [769, 109, 883, 353, 577, 461, 593, 733, 601, 797, 307, 13, 937, 227, 127, 619]\n"
          ]
        }
      ]
    },
    {
      "cell_type": "code",
      "source": [
        "#  Q 10. Create a NumPy array representing daily temperatures for a month. Calculate and display the weekly averages\n",
        "\n",
        "import numpy as np\n",
        "\n",
        "# Create a NumPy array representing daily temperatures for a month (30 days)\n",
        "daily_temperatures = np.random.randint(15, 35, size=30)  # Example temperatures between 15 and 35 degrees Celsius\n",
        "\n",
        "# Calculate weekly averages\n",
        "weekly_averages = []\n",
        "for i in range(0, len(daily_temperatures), 7):\n",
        "  week_temps = daily_temperatures[i:i+7]\n",
        "  if len(week_temps) > 0:\n",
        "    weekly_average = np.mean(week_temps)\n",
        "    weekly_averages.append(weekly_average)\n",
        "\n",
        "# Display the weekly averages\n",
        "print(\"Daily Temperatures:\", daily_temperatures)\n",
        "print(\"\\nWeekly Averages:\", weekly_averages)\n"
      ],
      "metadata": {
        "colab": {
          "base_uri": "https://localhost:8080/"
        },
        "id": "Fp-aLjMB-lrK",
        "outputId": "cbf3c454-5791-4da5-a80b-8a5c641e28d9"
      },
      "execution_count": null,
      "outputs": [
        {
          "output_type": "stream",
          "name": "stdout",
          "text": [
            "Daily Temperatures: [29 23 19 24 24 17 30 27 24 18 22 33 34 20 27 26 30 32 23 23 28 34 26 30\n",
            " 33 16 21 27 23 29]\n",
            "\n",
            "Weekly Averages: [23.714285714285715, 25.428571428571427, 27.0, 26.714285714285715, 26.0]\n"
          ]
        }
      ]
    }
  ]
}